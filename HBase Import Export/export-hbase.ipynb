{
 "cells": [
  {
   "cell_type": "code",
   "execution_count": 6,
   "metadata": {},
   "outputs": [],
   "source": [
    "import happybase\n",
    "import csv"
   ]
  },
  {
   "cell_type": "code",
   "execution_count": 26,
   "metadata": {},
   "outputs": [],
   "source": [
    "def export_hbase_table_to_csv(table_name, csv_file, column_names):\n",
    "    connection = happybase.Connection('localhost', port=9090)\n",
    "    table = connection.table(table_name)\n",
    "\n",
    "    with open(csv_file, 'w', newline='', encoding='utf-8') as file:\n",
    "        writer = csv.writer(file)\n",
    "        writer.writerow(column_names) \n",
    "\n",
    "        for key, data in table.scan():\n",
    "            row_data = []\n",
    "            row_data.append(key.decode())\n",
    "            writer.writerow([key.decode()] + [value.decode() for value in data.values()])\n",
    "\n",
    "    connection.close()"
   ]
  },
  {
   "cell_type": "code",
   "execution_count": 27,
   "metadata": {},
   "outputs": [],
   "source": [
    "column_names = ['ID', 'isbn', 'rating', 'user_id']\n",
    "export_hbase_table_to_csv(\"rating\", \"export/ratings.csv\", column_names)"
   ]
  },
  {
   "cell_type": "code",
   "execution_count": 28,
   "metadata": {},
   "outputs": [],
   "source": [
    "column_names = ['id', 'book_author', 'book_title','image_url_l', 'image_url_m', 'image_url_s', 'isbn', 'publisher', 'year_of_publication']\n",
    "export_hbase_table_to_csv(\"book\", \"export/books.csv\", column_names)"
   ]
  },
  {
   "cell_type": "code",
   "execution_count": 29,
   "metadata": {},
   "outputs": [],
   "source": [
    "column_names = ['id', 'age', 'location', 'user_id']\n",
    "export_hbase_table_to_csv(\"user\", \"export/users.csv\", column_names)"
   ]
  }
 ],
 "metadata": {
  "kernelspec": {
   "display_name": "Python 3",
   "language": "python",
   "name": "python3"
  },
  "language_info": {
   "codemirror_mode": {
    "name": "ipython",
    "version": 3
   },
   "file_extension": ".py",
   "mimetype": "text/x-python",
   "name": "python",
   "nbconvert_exporter": "python",
   "pygments_lexer": "ipython3",
   "version": "3.8.10"
  }
 },
 "nbformat": 4,
 "nbformat_minor": 2
}
