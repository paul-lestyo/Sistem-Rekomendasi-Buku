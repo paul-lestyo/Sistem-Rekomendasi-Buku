{
 "cells": [
  {
   "cell_type": "code",
   "execution_count": 1,
   "metadata": {},
   "outputs": [
    {
     "name": "stdout",
     "output_type": "stream",
     "text": [
      "Requirement already satisfied: happybase in c:\\users\\lesty\\appdata\\local\\programs\\python\\python38\\lib\\site-packages (1.2.0)\n",
      "Requirement already satisfied: six in c:\\users\\lesty\\appdata\\local\\programs\\python\\python38\\lib\\site-packages (from happybase) (1.16.0)\n",
      "Requirement already satisfied: thriftpy2>=0.4 in c:\\users\\lesty\\appdata\\local\\programs\\python\\python38\\lib\\site-packages (from happybase) (0.4.17)\n",
      "Requirement already satisfied: ply<4.0,>=3.4 in c:\\users\\lesty\\appdata\\local\\programs\\python\\python38\\lib\\site-packages (from thriftpy2>=0.4->happybase) (3.11)\n"
     ]
    },
    {
     "name": "stderr",
     "output_type": "stream",
     "text": [
      "\n",
      "[notice] A new release of pip is available: 23.1.2 -> 23.3.1\n",
      "[notice] To update, run: python.exe -m pip install --upgrade pip\n"
     ]
    }
   ],
   "source": [
    "!pip install happybase"
   ]
  },
  {
   "cell_type": "code",
   "execution_count": 2,
   "metadata": {},
   "outputs": [],
   "source": [
    "import happybase\n",
    "import csv"
   ]
  },
  {
   "cell_type": "code",
   "execution_count": 3,
   "metadata": {},
   "outputs": [],
   "source": [
    "def import_csv_to_hbase_table(table_name, csv_file, column_names):\n",
    "    connection = happybase.Connection('localhost', port=9090)\n",
    "    table = connection.table(table_name)\n",
    "    batch = table.batch(timestamp=None, batch_size=5000, transaction=False, wal=True)\n",
    "\t\n",
    "\t\n",
    "    with open(csv_file, 'r') as file:\n",
    "        reader = csv.reader(file)\n",
    "        next(reader)\n",
    "        for row in reader:\n",
    "            row_key = row[0]\n",
    "            print(row)\n",
    "            data = {}\n",
    "            for idx, col_name in enumerate(column_names):\n",
    "                column_family, column_qualifier = col_name.split(':')\n",
    "                data[f'{column_family}:{column_qualifier}'] = row[idx + 1]  # Mengambil nilai dari row sesuai dengan indeks kolom\n",
    "\n",
    "            batch.put(row_key, data)\n",
    "            \n",
    "    batch.send()\n",
    "    connection.close()"
   ]
  },
  {
   "cell_type": "code",
   "execution_count": null,
   "metadata": {},
   "outputs": [],
   "source": [
    "column_names = ['cf:user_id', 'cf:isbn', 'cf:rating']  \n",
    "import_csv_to_hbase_table('rating', 'data/ratings.csv', column_names)"
   ]
  },
  {
   "cell_type": "code",
   "execution_count": null,
   "metadata": {},
   "outputs": [],
   "source": [
    "column_names = ['cf:user_id', 'cf:location', 'cf:age']  \n",
    "import_csv_to_hbase_table('user', 'data/users.csv', column_names)"
   ]
  },
  {
   "cell_type": "code",
   "execution_count": null,
   "metadata": {},
   "outputs": [],
   "source": [
    "column_names = ['cf:isbn', 'cf:book_title', 'cf:book_author', 'cf:year_of_publication', 'cf:publisher', 'cf:image_url_s', 'cf:image_url_m', 'cf:image_url_l']  \n",
    "import_csv_to_hbase_table('book', 'data/books.csv', column_names)"
   ]
  }
 ],
 "metadata": {
  "kernelspec": {
   "display_name": "Python 3",
   "language": "python",
   "name": "python3"
  },
  "language_info": {
   "codemirror_mode": {
    "name": "ipython",
    "version": 3
   },
   "file_extension": ".py",
   "mimetype": "text/x-python",
   "name": "python",
   "nbconvert_exporter": "python",
   "pygments_lexer": "ipython3",
   "version": "3.8.10"
  }
 },
 "nbformat": 4,
 "nbformat_minor": 2
}
